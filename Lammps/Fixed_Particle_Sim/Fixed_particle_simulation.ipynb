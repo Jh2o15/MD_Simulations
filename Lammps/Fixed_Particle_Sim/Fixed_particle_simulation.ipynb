{
 "cells": [
  {
   "cell_type": "code",
   "execution_count": 1,
   "id": "e32ea5d3-8d15-4626-acf5-e0e62276b140",
   "metadata": {},
   "outputs": [],
   "source": [
    "def _PyLammps_end_of_step_callback(lmp=None):\n",
    "    return 0"
   ]
  },
  {
   "cell_type": "code",
   "execution_count": 1,
   "id": "cb328d4b-4139-44b2-8404-00fdb7c49794",
   "metadata": {},
   "outputs": [
    {
     "ename": "ModuleNotFoundError",
     "evalue": "No module named 'lammps'",
     "output_type": "error",
     "traceback": [
      "\u001b[31m---------------------------------------------------------------------------\u001b[39m",
      "\u001b[31mModuleNotFoundError\u001b[39m                       Traceback (most recent call last)",
      "\u001b[36mCell\u001b[39m\u001b[36m \u001b[39m\u001b[32mIn[1]\u001b[39m\u001b[32m, line 1\u001b[39m\n\u001b[32m----> \u001b[39m\u001b[32m1\u001b[39m \u001b[38;5;28;01mfrom\u001b[39;00m\u001b[38;5;250m \u001b[39m\u001b[34;01mlammps\u001b[39;00m\u001b[38;5;250m \u001b[39m\u001b[38;5;28;01mimport\u001b[39;00m PyLammps\n\u001b[32m      2\u001b[39m L = PyLammps()\n\u001b[32m      4\u001b[39m \u001b[38;5;66;03m# --------- Seting up boxes and atoms ----------\u001b[39;00m\n",
      "\u001b[31mModuleNotFoundError\u001b[39m: No module named 'lammps'"
     ]
    }
   ],
   "source": [
    "from lammps import PyLammps\n",
    "L = PyLammps()\n",
    "\n",
    "# --------- Seting up boxes and atoms ----------\n",
    "L.units(\"lj\")\n",
    "L.dimension(2) \n",
    "L.boundary(\"p\",\"p\",\"p\") #boundary conditions\n",
    "L.atom_style(\"atomic\") #type of particles, depending of the type they have their own peroperties \n",
    "#\"dipole stile include charge and dipole moment\"\n",
    "\n",
    "L.region(\"box\",\"block\",0,30,0,30,-0.5,0.5)  #name type and sizes \n",
    "L.create_box(2,\"box\") #create box \n",
    "\n",
    "# Place atoms on a hex lattice to avoid overlaps\n",
    "L.lattice(\"hex\", 0.85)           \n",
    "\n",
    "L.create_atoms(1,\"random\", 147 ,1235,\"box\",type,)\n",
    "L.group(\"fluid\",\"type\",1)  #atoms of type 1 , fluid is the name\n",
    "\n",
    "L.mass(1, 13.0) #mass atom 1\n",
    "\n",
    "L.create_atoms(2, \"single\",13.5,7,0) #create only one atom \n",
    "L.group(\"center\",\"type\",2) \n",
    "L.mass(2, 10.0)\n",
    "\n",
    "\n",
    "# --------- Interactions & neighbors ---------- it uses the lj potential \n",
    "L.pair_style(\"lj/cut\", 2.5) \n",
    "\n",
    "sig12 = 5          # bigger \"size\" -> they get expelled sooner\n",
    "eps12 = 60.0          # stronger repulsion\n",
    "rc12  = 1.1224620483 * sig12\n",
    "L.pair_coeff(1, 1, 1.0, 1.0, 2.5)   # fluid-fluid\n",
    "L.pair_coeff(1, 2, eps12, sig12, rc12)# fluid- atom stronger repulsion\n",
    "L.pair_coeff(2, 2, 1.0, 1.0, 2.5) \n",
    "L.neighbor(0.3, \"bin\")\n",
    "L.neigh_modify(\"delay\", 0, \"every\", 1, \"check\", \"yes\")  # update every step\n",
    "\n",
    "# --------- Velocities ----------\n",
    "L.velocity(\"fluid\", \"create\", 0.8, 87287, \"mom\", \"yes\", \"rot\", \"no\") #initial velcoity of the fluid\n",
    "L.velocity(\"center\",\"set\",0,0,0)\n",
    "L.fix(\"hold_center\", \"center\", \"move\", \"linear\", 0.0, 0.0, 0.0) #fixes the atom in the center\n",
    "\n",
    "# --------- Output ----------\n",
    "L.thermo(100);\n",
    "L.thermo_style(\"custom\",\"step\",\"temp\",\"pe\",\"ke\",\"etotal\",\"press\",\"density\");\n",
    "L.dump(1,\"all\",\"atom\",200,\"traj_2d_lj.lammpstrj\");\n",
    "L.dump_modify(1,\"sort\",\"id\");\n",
    "\n",
    "# --------- warm-up to avoid blow-ups ----------\n",
    "L.timestep(0.002)                 # smaller, stable dt\n",
    "L.fix(10, \"all\", \"nve/limit\", 0.1) # caps per-step displacement\n",
    "L.command(\"run 2000\");\n",
    "L.unfix(10)\n",
    "\n",
    "# --------- Main thermostat + integrate ----------\n",
    "L.fix(1, \"all\", \"langevin\", 1.0, 1.0, 1.0, 904297)  # hold T=1\n",
    "L.fix(2, \"all\", \"nve\")\n",
    "L.fix(3, \"all\", \"enforce2d\")\n",
    "L.command(\"run 40000\");\n"
   ]
  },
  {
   "cell_type": "code",
   "execution_count": null,
   "id": "636ad572-e379-431b-a409-14d8e1a5c3f7",
   "metadata": {},
   "outputs": [],
   "source": []
  }
 ],
 "metadata": {
  "kernelspec": {
   "display_name": "Python 3 (ipykernel)",
   "language": "python",
   "name": "python3"
  },
  "language_info": {
   "codemirror_mode": {
    "name": "ipython",
    "version": 3
   },
   "file_extension": ".py",
   "mimetype": "text/x-python",
   "name": "python",
   "nbconvert_exporter": "python",
   "pygments_lexer": "ipython3",
   "version": "3.12.11"
  }
 },
 "nbformat": 4,
 "nbformat_minor": 5
}
